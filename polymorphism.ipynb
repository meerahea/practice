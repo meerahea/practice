{
 "cells": [
  {
   "cell_type": "code",
   "execution_count": 1,
   "id": "fad52764-aa51-4858-ab43-c8f5dbd810dd",
   "metadata": {},
   "outputs": [],
   "source": [
    "def test(a,b):\n",
    "    return a+b"
   ]
  },
  {
   "cell_type": "code",
   "execution_count": 2,
   "id": "fcafc8bc-4c53-4d16-baf1-b216cacc1817",
   "metadata": {},
   "outputs": [
    {
     "data": {
      "text/plain": [
       "7"
      ]
     },
     "execution_count": 2,
     "metadata": {},
     "output_type": "execute_result"
    }
   ],
   "source": [
    "test(3,4)"
   ]
  },
  {
   "cell_type": "code",
   "execution_count": 4,
   "id": "429b63dc-4881-4540-a08f-4368429621d2",
   "metadata": {},
   "outputs": [
    {
     "data": {
      "text/plain": [
       "'hea varia'"
      ]
     },
     "execution_count": 4,
     "metadata": {},
     "output_type": "execute_result"
    }
   ],
   "source": [
    "test('hea',' varia')\n"
   ]
  },
  {
   "cell_type": "code",
   "execution_count": 5,
   "id": "29432029-db16-4966-bad1-2e9220797856",
   "metadata": {},
   "outputs": [
    {
     "data": {
      "text/plain": [
       "[1, 2, 3, 4, 34, 45, 87, 23]"
      ]
     },
     "execution_count": 5,
     "metadata": {},
     "output_type": "execute_result"
    }
   ],
   "source": [
    "test([1,2,3,4],[34,45,87,23])"
   ]
  },
  {
   "cell_type": "code",
   "execution_count": 8,
   "id": "c05a1f43-36de-4b0f-aa32-f8200eff5321",
   "metadata": {},
   "outputs": [],
   "source": [
    "class data_science:\n",
    "    def syllabus(self):\n",
    "        print('this is my syllabus for data science')\n",
    "        "
   ]
  },
  {
   "cell_type": "code",
   "execution_count": 9,
   "id": "07abdb21-6d0e-43ac-ad6b-513a6e1d4a63",
   "metadata": {},
   "outputs": [],
   "source": [
    "class web_dev:\n",
    "    def syllabus(self):\n",
    "        print('this is my syllabus for web_dev.')"
   ]
  },
  {
   "cell_type": "code",
   "execution_count": 12,
   "id": "e306fe2c-b0c1-4dbb-b0e0-ab4e6674bcf5",
   "metadata": {},
   "outputs": [],
   "source": [
    "def class_parcer(class_obj):\n",
    "    for i in class_obj :\n",
    "        i.syllabus()\n",
    "        "
   ]
  },
  {
   "cell_type": "code",
   "execution_count": 31,
   "id": "7a29c593-02bf-444f-94c1-afd6302535f2",
   "metadata": {},
   "outputs": [],
   "source": [
    "web_dev = web_dev()"
   ]
  },
  {
   "cell_type": "code",
   "execution_count": 30,
   "id": "a75ef26f-f47d-42af-be27-715a45c8e533",
   "metadata": {},
   "outputs": [],
   "source": [
    "data_science = data_science()"
   ]
  },
  {
   "cell_type": "code",
   "execution_count": 32,
   "id": "86051855-15f5-4e2d-a646-e955d81f2278",
   "metadata": {},
   "outputs": [],
   "source": [
    "class_obj = [data_science,web_dev]"
   ]
  },
  {
   "cell_type": "code",
   "execution_count": 22,
   "id": "dbaec6eb-aa2b-4e88-8de8-d2bd2648b01c",
   "metadata": {},
   "outputs": [
    {
     "name": "stdout",
     "output_type": "stream",
     "text": [
      "this is my syllabus for data science\n",
      "this is my syllabus for web_dev.\n"
     ]
    }
   ],
   "source": [
    "class_parcer(class_obj)"
   ]
  },
  {
   "cell_type": "code",
   "execution_count": 25,
   "id": "6fba0d55-d270-4d91-b668-c2f4540c32e1",
   "metadata": {},
   "outputs": [],
   "source": [
    "class data_science():\n",
    "    def assignmnt(self):\n",
    "        print('this is my first assignment')"
   ]
  },
  {
   "cell_type": "code",
   "execution_count": 26,
   "id": "830323c1-5efb-49f3-9e3c-1ec4f4f587ff",
   "metadata": {},
   "outputs": [],
   "source": [
    "class web_dev():\n",
    "    def assignmnt(self):\n",
    "        print('this is my first assignment')"
   ]
  },
  {
   "cell_type": "code",
   "execution_count": 29,
   "id": "ce5e1c32-bf8c-45a8-934d-fd27a620ac06",
   "metadata": {},
   "outputs": [],
   "source": [
    "def class_report(class_obj):\n",
    "    for i in class_obj:\n",
    "        i.assignmnt()"
   ]
  },
  {
   "cell_type": "code",
   "execution_count": 33,
   "id": "41be03d6-b9ca-4240-9c7f-a41f6bf2e143",
   "metadata": {},
   "outputs": [
    {
     "name": "stdout",
     "output_type": "stream",
     "text": [
      "this is my first assignment\n",
      "this is my first assignment\n"
     ]
    }
   ],
   "source": [
    "class_report(class_obj)"
   ]
  }
 ],
 "metadata": {
  "kernelspec": {
   "display_name": "Python 3 (ipykernel)",
   "language": "python",
   "name": "python3"
  },
  "language_info": {
   "codemirror_mode": {
    "name": "ipython",
    "version": 3
   },
   "file_extension": ".py",
   "mimetype": "text/x-python",
   "name": "python",
   "nbconvert_exporter": "python",
   "pygments_lexer": "ipython3",
   "version": "3.10.8"
  }
 },
 "nbformat": 4,
 "nbformat_minor": 5
}
