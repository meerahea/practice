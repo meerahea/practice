{
 "cells": [
  {
   "cell_type": "code",
   "execution_count": 1,
   "id": "f8ed57df-4faf-49f6-bd62-d38a5f9380bc",
   "metadata": {},
   "outputs": [],
   "source": [
    "import abc\n",
    "class pwskills:\n",
    "    \n",
    "    @abc.abstractmethod\n",
    "    def student_details(self):\n",
    "        pass\n",
    "    \n",
    "    @abc.abstractmethod\n",
    "    def student_assignment(self):\n",
    "        pass\n",
    "    \n",
    "    @abc.abstractmethod\n",
    "    def student_marks(self):\n",
    "        pass"
   ]
  },
  {
   "cell_type": "code",
   "execution_count": 17,
   "id": "8805edde-cc7f-4a59-bd3a-8fc4d0161ead",
   "metadata": {},
   "outputs": [],
   "source": [
    "class student_details(pwskills):\n",
    "    def student_details(self):\n",
    "        return'this is a method for taking student details'\n",
    "    \n",
    "    def student_assignment(self):\n",
    "        return'this is a method for assignment for particular student'\n",
    "        "
   ]
  },
  {
   "cell_type": "code",
   "execution_count": 11,
   "id": "095f8caf-b235-40bd-84f9-b06c4e24d11d",
   "metadata": {},
   "outputs": [],
   "source": [
    "class data_science_masters(pwskills):\n",
    "    def student_details(self):\n",
    "        return'this will return the student details of data science master class '\n",
    "    \n",
    "    def student_assignment(self): \n",
    "        return'this will give u assignment details of particular student in data science master class'\n",
    "    "
   ]
  },
  {
   "cell_type": "code",
   "execution_count": 21,
   "id": "e793c6dc-95d6-4e63-8c82-ee23754c7ee6",
   "metadata": {},
   "outputs": [],
   "source": [
    "class web_dev(pwskills):\n",
    "    def student_details(self):\n",
    "        return'this will give u student details for web_dev.'\n",
    "        \n",
    "    def student_marks(self):\n",
    "        return'this will give u particular student marks for web_dev class.'"
   ]
  },
  {
   "cell_type": "code",
   "execution_count": 22,
   "id": "db3a0a30-42f9-4aff-a141-ce3c79717f70",
   "metadata": {},
   "outputs": [],
   "source": [
    "wb = web_dev()"
   ]
  },
  {
   "cell_type": "code",
   "execution_count": 23,
   "id": "7070e1e8-a49a-452c-a345-bce4d8a3fd8e",
   "metadata": {},
   "outputs": [
    {
     "data": {
      "text/plain": [
       "'this will give u particular student marks for web_dev class.'"
      ]
     },
     "execution_count": 23,
     "metadata": {},
     "output_type": "execute_result"
    }
   ],
   "source": [
    "wb.student_marks()"
   ]
  },
  {
   "cell_type": "code",
   "execution_count": 24,
   "id": "a95b21f0-e2a5-4fbb-8b18-2594b5cf0285",
   "metadata": {},
   "outputs": [
    {
     "data": {
      "text/plain": [
       "'this will give u student details for web_dev.'"
      ]
     },
     "execution_count": 24,
     "metadata": {},
     "output_type": "execute_result"
    }
   ],
   "source": [
    "wb.student_details()"
   ]
  },
  {
   "cell_type": "code",
   "execution_count": 12,
   "id": "9e8fbf24-5316-4cea-9125-db4e1d12e96e",
   "metadata": {},
   "outputs": [],
   "source": [
    "dsm = data_science_masters()"
   ]
  },
  {
   "cell_type": "code",
   "execution_count": 7,
   "id": "580f9897-3681-4683-b546-cb78f0753480",
   "metadata": {},
   "outputs": [
    {
     "data": {
      "text/plain": [
       "'this will return the student details of data science master class '"
      ]
     },
     "execution_count": 7,
     "metadata": {},
     "output_type": "execute_result"
    }
   ],
   "source": [
    "dsm.student_details()"
   ]
  },
  {
   "cell_type": "code",
   "execution_count": 13,
   "id": "ffe1e0e4-26bb-49f3-b55a-157360f8272a",
   "metadata": {},
   "outputs": [
    {
     "data": {
      "text/plain": [
       "'this will give u assignment details of particular student in data science master class'"
      ]
     },
     "execution_count": 13,
     "metadata": {},
     "output_type": "execute_result"
    }
   ],
   "source": [
    "dsm.student_assignment()"
   ]
  },
  {
   "cell_type": "code",
   "execution_count": 18,
   "id": "06c2fbe2-c397-48a6-9b03-47a431593c35",
   "metadata": {},
   "outputs": [],
   "source": [
    "sd = student_details()"
   ]
  },
  {
   "cell_type": "code",
   "execution_count": 19,
   "id": "ad61e491-c901-41db-8011-cb6219d63e55",
   "metadata": {},
   "outputs": [
    {
     "data": {
      "text/plain": [
       "'this is a method for taking student details'"
      ]
     },
     "execution_count": 19,
     "metadata": {},
     "output_type": "execute_result"
    }
   ],
   "source": [
    "sd.student_details()"
   ]
  },
  {
   "cell_type": "code",
   "execution_count": 20,
   "id": "3e8d674a-6648-40fa-a33f-285defa055ba",
   "metadata": {},
   "outputs": [
    {
     "data": {
      "text/plain": [
       "'this is a method for assignment for particular student'"
      ]
     },
     "execution_count": 20,
     "metadata": {},
     "output_type": "execute_result"
    }
   ],
   "source": [
    "sd.student_assignment()"
   ]
  }
 ],
 "metadata": {
  "kernelspec": {
   "display_name": "Python 3 (ipykernel)",
   "language": "python",
   "name": "python3"
  },
  "language_info": {
   "codemirror_mode": {
    "name": "ipython",
    "version": 3
   },
   "file_extension": ".py",
   "mimetype": "text/x-python",
   "name": "python",
   "nbconvert_exporter": "python",
   "pygments_lexer": "ipython3",
   "version": "3.10.8"
  }
 },
 "nbformat": 4,
 "nbformat_minor": 5
}
