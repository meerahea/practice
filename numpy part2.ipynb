{
 "cells": [
  {
   "cell_type": "code",
   "execution_count": 1,
   "id": "76c88016-8274-4bc2-97c7-f5769c002717",
   "metadata": {},
   "outputs": [],
   "source": [
    "import numpy as np"
   ]
  },
  {
   "cell_type": "markdown",
   "id": "d41cbf73-73d7-4a14-bfad-b34f0577d428",
   "metadata": {},
   "source": [
    "Numpy Array manipulation"
   ]
  },
  {
   "cell_type": "code",
   "execution_count": 3,
   "id": "6d566741-0261-4f52-9cb6-277a7ebc5ea7",
   "metadata": {},
   "outputs": [],
   "source": [
    "arr = np.random.randint(1,10,(3,4))"
   ]
  },
  {
   "cell_type": "code",
   "execution_count": 4,
   "id": "f539c31b-777f-4aab-811c-a778b8553f64",
   "metadata": {},
   "outputs": [
    {
     "data": {
      "text/plain": [
       "array([[5, 9, 9, 6],\n",
       "       [5, 4, 3, 5],\n",
       "       [2, 5, 1, 2]])"
      ]
     },
     "execution_count": 4,
     "metadata": {},
     "output_type": "execute_result"
    }
   ],
   "source": [
    "arr"
   ]
  },
  {
   "cell_type": "code",
   "execution_count": 5,
   "id": "92936340-bd4f-46fe-b161-dd48972b72ad",
   "metadata": {},
   "outputs": [
    {
     "data": {
      "text/plain": [
       "array([[5, 9, 9, 6, 5, 4],\n",
       "       [3, 5, 2, 5, 1, 2]])"
      ]
     },
     "execution_count": 5,
     "metadata": {},
     "output_type": "execute_result"
    }
   ],
   "source": [
    "arr.reshape(2,6)"
   ]
  },
  {
   "cell_type": "code",
   "execution_count": 8,
   "id": "d48b100e-69a1-45ad-9f05-44a3f6f9134f",
   "metadata": {},
   "outputs": [
    {
     "data": {
      "text/plain": [
       "array([[5, 9, 9, 6, 5, 4],\n",
       "       [3, 5, 2, 5, 1, 2]])"
      ]
     },
     "execution_count": 8,
     "metadata": {},
     "output_type": "execute_result"
    }
   ],
   "source": [
    "arr.reshape(2,-234)"
   ]
  },
  {
   "cell_type": "code",
   "execution_count": 9,
   "id": "8c7a27b3-8775-48e0-870e-e4123ce4c4d5",
   "metadata": {},
   "outputs": [
    {
     "data": {
      "text/plain": [
       "array([[5, 5, 2],\n",
       "       [9, 4, 5],\n",
       "       [9, 3, 1],\n",
       "       [6, 5, 2]])"
      ]
     },
     "execution_count": 9,
     "metadata": {},
     "output_type": "execute_result"
    }
   ],
   "source": [
    "arr.T"
   ]
  },
  {
   "cell_type": "code",
   "execution_count": 11,
   "id": "8a1f34c7-7ec0-4a1e-85df-090c6097ed6d",
   "metadata": {},
   "outputs": [
    {
     "data": {
      "text/plain": [
       "array([5, 9, 9, 6, 5, 4, 3, 5, 2, 5, 1, 2])"
      ]
     },
     "execution_count": 11,
     "metadata": {},
     "output_type": "execute_result"
    }
   ],
   "source": [
    "arr.flatten()"
   ]
  },
  {
   "cell_type": "code",
   "execution_count": 12,
   "id": "f870e069-b0f3-45ba-a281-aba73507e5c7",
   "metadata": {},
   "outputs": [],
   "source": [
    "arr1 = np.array([1,2,3,4,5])"
   ]
  },
  {
   "cell_type": "code",
   "execution_count": 13,
   "id": "1c973342-a495-4771-a7ea-d84b839845b1",
   "metadata": {},
   "outputs": [
    {
     "data": {
      "text/plain": [
       "1"
      ]
     },
     "execution_count": 13,
     "metadata": {},
     "output_type": "execute_result"
    }
   ],
   "source": [
    "arr1.ndim"
   ]
  },
  {
   "cell_type": "code",
   "execution_count": 15,
   "id": "664c722f-2914-41dc-bd93-183abcb7a0e1",
   "metadata": {},
   "outputs": [
    {
     "data": {
      "text/plain": [
       "array([[1],\n",
       "       [2],\n",
       "       [3],\n",
       "       [4],\n",
       "       [5]])"
      ]
     },
     "execution_count": 15,
     "metadata": {},
     "output_type": "execute_result"
    }
   ],
   "source": [
    "np.expand_dims(arr1,axis = 1)"
   ]
  },
  {
   "cell_type": "code",
   "execution_count": 16,
   "id": "d36bf121-e816-488c-8e1e-c0d97bba030a",
   "metadata": {},
   "outputs": [
    {
     "data": {
      "text/plain": [
       "array([[1, 2, 3, 4, 5]])"
      ]
     },
     "execution_count": 16,
     "metadata": {},
     "output_type": "execute_result"
    }
   ],
   "source": [
    "np.expand_dims(arr1,axis = 0)"
   ]
  },
  {
   "cell_type": "code",
   "execution_count": 17,
   "id": "147da760-e3ba-42ed-b019-9ae909cacf94",
   "metadata": {},
   "outputs": [
    {
     "data": {
      "text/plain": [
       "array([[5, 9, 9, 6],\n",
       "       [5, 4, 3, 5],\n",
       "       [2, 5, 1, 2]])"
      ]
     },
     "execution_count": 17,
     "metadata": {},
     "output_type": "execute_result"
    }
   ],
   "source": [
    "arr"
   ]
  },
  {
   "cell_type": "code",
   "execution_count": 18,
   "id": "59e21adc-a06b-48af-aa99-482c99851d83",
   "metadata": {},
   "outputs": [
    {
     "data": {
      "text/plain": [
       "array([[5, 9, 9, 6],\n",
       "       [5, 4, 3, 5],\n",
       "       [2, 5, 1, 2]])"
      ]
     },
     "execution_count": 18,
     "metadata": {},
     "output_type": "execute_result"
    }
   ],
   "source": [
    "np.squeeze(arr)"
   ]
  },
  {
   "cell_type": "code",
   "execution_count": 19,
   "id": "669385af-e151-48cc-b00e-d3309e2e94e3",
   "metadata": {},
   "outputs": [],
   "source": [
    "data = np.array([[1],[2],[3]])"
   ]
  },
  {
   "cell_type": "code",
   "execution_count": 20,
   "id": "6df27275-87ca-425d-9df2-2d81eff2f6e1",
   "metadata": {},
   "outputs": [
    {
     "data": {
      "text/plain": [
       "array([[1],\n",
       "       [2],\n",
       "       [3]])"
      ]
     },
     "execution_count": 20,
     "metadata": {},
     "output_type": "execute_result"
    }
   ],
   "source": [
    "data"
   ]
  },
  {
   "cell_type": "code",
   "execution_count": 21,
   "id": "12107ec9-2112-4f06-bacd-93f3411ddd3e",
   "metadata": {},
   "outputs": [
    {
     "data": {
      "text/plain": [
       "array([1, 2, 3])"
      ]
     },
     "execution_count": 21,
     "metadata": {},
     "output_type": "execute_result"
    }
   ],
   "source": [
    "np.squeeze(data)"
   ]
  },
  {
   "cell_type": "code",
   "execution_count": 22,
   "id": "e4fc8077-0e61-4738-b73b-427d225c038b",
   "metadata": {},
   "outputs": [
    {
     "data": {
      "text/plain": [
       "array([1, 1, 1, 2, 2, 2, 3, 3, 3, 4, 4, 4, 5, 5, 5])"
      ]
     },
     "execution_count": 22,
     "metadata": {},
     "output_type": "execute_result"
    }
   ],
   "source": [
    "np.repeat(arr1,3)"
   ]
  },
  {
   "cell_type": "code",
   "execution_count": 34,
   "id": "31797f3d-d63c-4e7d-b4b8-97750cd85be7",
   "metadata": {},
   "outputs": [
    {
     "data": {
      "text/plain": [
       "array([5, 1, 2, 3, 4])"
      ]
     },
     "execution_count": 34,
     "metadata": {},
     "output_type": "execute_result"
    }
   ],
   "source": [
    "np.roll(arr1,1)"
   ]
  },
  {
   "cell_type": "code",
   "execution_count": 24,
   "id": "5cd5f60a-1f03-47b6-b291-56890cd271c4",
   "metadata": {},
   "outputs": [
    {
     "data": {
      "text/plain": [
       "array([1, 2, 3, 4, 5])"
      ]
     },
     "execution_count": 24,
     "metadata": {},
     "output_type": "execute_result"
    }
   ],
   "source": [
    "arr1"
   ]
  },
  {
   "cell_type": "code",
   "execution_count": 35,
   "id": "18452158-568d-4854-8728-bec6aa77bf19",
   "metadata": {},
   "outputs": [
    {
     "data": {
      "text/plain": [
       "array([[1, 0, 0, 0, 0],\n",
       "       [0, 2, 0, 0, 0],\n",
       "       [0, 0, 3, 0, 0],\n",
       "       [0, 0, 0, 4, 0],\n",
       "       [0, 0, 0, 0, 5]])"
      ]
     },
     "execution_count": 35,
     "metadata": {},
     "output_type": "execute_result"
    }
   ],
   "source": [
    "np.diag(arr1)"
   ]
  },
  {
   "cell_type": "markdown",
   "id": "141355c2-aae8-43d2-b60e-e69da2f157ad",
   "metadata": {},
   "source": [
    "Numpy Binary Operation"
   ]
  },
  {
   "cell_type": "code",
   "execution_count": 56,
   "id": "380fad67-08b0-4b7e-bb53-b29b700e6582",
   "metadata": {},
   "outputs": [],
   "source": [
    "arr1 = np.random.randint(1,10,(3,4))"
   ]
  },
  {
   "cell_type": "code",
   "execution_count": 57,
   "id": "2454eead-aec7-4f45-94e2-b6a87060ab30",
   "metadata": {},
   "outputs": [],
   "source": [
    "arr2 = np.random.randint(1,10,(3,4))"
   ]
  },
  {
   "cell_type": "code",
   "execution_count": 38,
   "id": "a1aa1cf0-6dce-4ac9-b324-3fa47ca6815f",
   "metadata": {},
   "outputs": [
    {
     "data": {
      "text/plain": [
       "array([[1, 5, 5, 8],\n",
       "       [8, 7, 8, 1],\n",
       "       [9, 4, 7, 6]])"
      ]
     },
     "execution_count": 38,
     "metadata": {},
     "output_type": "execute_result"
    }
   ],
   "source": [
    "arr1"
   ]
  },
  {
   "cell_type": "code",
   "execution_count": 39,
   "id": "9fbaf231-54b0-4cc9-a1ff-2aa6e74663ce",
   "metadata": {},
   "outputs": [
    {
     "data": {
      "text/plain": [
       "array([[2, 8, 2, 4],\n",
       "       [5, 4, 3, 8],\n",
       "       [6, 6, 8, 7]])"
      ]
     },
     "execution_count": 39,
     "metadata": {},
     "output_type": "execute_result"
    }
   ],
   "source": [
    "arr2"
   ]
  },
  {
   "cell_type": "code",
   "execution_count": 40,
   "id": "2107ac35-15d0-4133-916d-d021782ecbba",
   "metadata": {},
   "outputs": [
    {
     "data": {
      "text/plain": [
       "array([[ 3, 13,  7, 12],\n",
       "       [13, 11, 11,  9],\n",
       "       [15, 10, 15, 13]])"
      ]
     },
     "execution_count": 40,
     "metadata": {},
     "output_type": "execute_result"
    }
   ],
   "source": [
    "arr1+arr2"
   ]
  },
  {
   "cell_type": "code",
   "execution_count": 41,
   "id": "97dd80d6-4da0-42fa-99c1-7c9437fbc5d1",
   "metadata": {},
   "outputs": [
    {
     "data": {
      "text/plain": [
       "array([[-1, -3,  3,  4],\n",
       "       [ 3,  3,  5, -7],\n",
       "       [ 3, -2, -1, -1]])"
      ]
     },
     "execution_count": 41,
     "metadata": {},
     "output_type": "execute_result"
    }
   ],
   "source": [
    "arr1-arr2"
   ]
  },
  {
   "cell_type": "code",
   "execution_count": 42,
   "id": "7ac4e75e-d57c-403e-92d4-5e69e69e2ac9",
   "metadata": {},
   "outputs": [
    {
     "data": {
      "text/plain": [
       "array([[0.5       , 0.625     , 2.5       , 2.        ],\n",
       "       [1.6       , 1.75      , 2.66666667, 0.125     ],\n",
       "       [1.5       , 0.66666667, 0.875     , 0.85714286]])"
      ]
     },
     "execution_count": 42,
     "metadata": {},
     "output_type": "execute_result"
    }
   ],
   "source": [
    "arr1/arr2"
   ]
  },
  {
   "cell_type": "code",
   "execution_count": 43,
   "id": "dcb96b55-3b7b-4a57-956f-24be732d9578",
   "metadata": {},
   "outputs": [
    {
     "data": {
      "text/plain": [
       "array([[ 2, 40, 10, 32],\n",
       "       [40, 28, 24,  8],\n",
       "       [54, 24, 56, 42]])"
      ]
     },
     "execution_count": 43,
     "metadata": {},
     "output_type": "execute_result"
    }
   ],
   "source": [
    "arr1*arr2"
   ]
  },
  {
   "cell_type": "code",
   "execution_count": 44,
   "id": "07bdcf7e-aa49-42d1-8106-cf682942413e",
   "metadata": {},
   "outputs": [
    {
     "data": {
      "text/plain": [
       "array([[1, 5, 1, 0],\n",
       "       [3, 3, 2, 1],\n",
       "       [3, 4, 7, 6]])"
      ]
     },
     "execution_count": 44,
     "metadata": {},
     "output_type": "execute_result"
    }
   ],
   "source": [
    "arr1%arr2"
   ]
  },
  {
   "cell_type": "code",
   "execution_count": 45,
   "id": "6eff9c8d-3cc7-4697-8afa-6805e12fdc77",
   "metadata": {},
   "outputs": [
    {
     "data": {
      "text/plain": [
       "array([[1, 5, 5, 8],\n",
       "       [8, 7, 8, 1],\n",
       "       [9, 4, 7, 6]])"
      ]
     },
     "execution_count": 45,
     "metadata": {},
     "output_type": "execute_result"
    }
   ],
   "source": [
    "arr1"
   ]
  },
  {
   "cell_type": "code",
   "execution_count": 46,
   "id": "cf5eea4d-7cca-4aa5-8a95-ed6cabbc101f",
   "metadata": {},
   "outputs": [
    {
     "data": {
      "text/plain": [
       "array([[2, 8, 2, 4],\n",
       "       [5, 4, 3, 8],\n",
       "       [6, 6, 8, 7]])"
      ]
     },
     "execution_count": 46,
     "metadata": {},
     "output_type": "execute_result"
    }
   ],
   "source": [
    "arr2"
   ]
  },
  {
   "cell_type": "code",
   "execution_count": 49,
   "id": "6f34217b-ce14-4471-94ee-d97095335b4e",
   "metadata": {},
   "outputs": [
    {
     "data": {
      "text/plain": [
       "array([[       4, 16777216,        4,      256],\n",
       "       [    3125,      256,       27, 16777216],\n",
       "       [   46656,    46656, 16777216,   823543]])"
      ]
     },
     "execution_count": 49,
     "metadata": {},
     "output_type": "execute_result"
    }
   ],
   "source": [
    "arr1 ** arr2"
   ]
  },
  {
   "cell_type": "code",
   "execution_count": 58,
   "id": "c1f0c8f3-a1f4-489a-abd2-a755f5eef48e",
   "metadata": {},
   "outputs": [
    {
     "data": {
      "text/plain": [
       "array([[8, 0, 1, 4],\n",
       "       [4, 0, 2, 4],\n",
       "       [0, 1, 0, 4]])"
      ]
     },
     "execution_count": 58,
     "metadata": {},
     "output_type": "execute_result"
    }
   ],
   "source": [
    "arr1 & arr2"
   ]
  },
  {
   "cell_type": "code",
   "execution_count": 59,
   "id": "05397669-9e61-417d-913f-e8ce7ce179a8",
   "metadata": {},
   "outputs": [
    {
     "data": {
      "text/plain": [
       "array([[ -9,  -9,  -2,  -7],\n",
       "       [ -5,  -6,  -3,  -5],\n",
       "       [ -9, -10,  -9,  -5]])"
      ]
     },
     "execution_count": 59,
     "metadata": {},
     "output_type": "execute_result"
    }
   ],
   "source": [
    "~arr1"
   ]
  },
  {
   "cell_type": "code",
   "execution_count": 60,
   "id": "2b821d32-5c29-44c9-9963-16f3f3b37c0e",
   "metadata": {},
   "outputs": [
    {
     "data": {
      "text/plain": [
       "array([[ 8, 12,  3,  6],\n",
       "       [ 4,  7,  7,  7],\n",
       "       [13, 13, 14,  7]])"
      ]
     },
     "execution_count": 60,
     "metadata": {},
     "output_type": "execute_result"
    }
   ],
   "source": [
    "arr1|arr2"
   ]
  },
  {
   "cell_type": "code",
   "execution_count": 61,
   "id": "8430be2e-5e54-4c34-9f44-7372a2cb9e37",
   "metadata": {},
   "outputs": [
    {
     "data": {
      "text/plain": [
       "array([[False,  True, False,  True],\n",
       "       [False,  True, False, False],\n",
       "       [ True,  True,  True, False]])"
      ]
     },
     "execution_count": 61,
     "metadata": {},
     "output_type": "execute_result"
    }
   ],
   "source": [
    "arr1>arr2"
   ]
  },
  {
   "cell_type": "code",
   "execution_count": 62,
   "id": "f13f59b0-a95f-4690-b4b7-c00f95999e40",
   "metadata": {},
   "outputs": [
    {
     "data": {
      "text/plain": [
       "array([[False, False,  True, False],\n",
       "       [False, False,  True,  True],\n",
       "       [False, False, False,  True]])"
      ]
     },
     "execution_count": 62,
     "metadata": {},
     "output_type": "execute_result"
    }
   ],
   "source": [
    "arr2>arr1"
   ]
  },
  {
   "cell_type": "markdown",
   "id": "7bc721f2-523a-4063-a48b-8ede56f4e2ad",
   "metadata": {},
   "source": [
    "Numpy String Operation"
   ]
  },
  {
   "cell_type": "code",
   "execution_count": 63,
   "id": "71381459-b022-453e-9f28-7eb5a52ed8ac",
   "metadata": {},
   "outputs": [],
   "source": [
    "arr = np.array(['sudh','krish'])"
   ]
  },
  {
   "cell_type": "code",
   "execution_count": 64,
   "id": "33e9bfaf-0659-4206-9d21-142f824a80fa",
   "metadata": {},
   "outputs": [
    {
     "data": {
      "text/plain": [
       "array(['sudh', 'krish'], dtype='<U5')"
      ]
     },
     "execution_count": 64,
     "metadata": {},
     "output_type": "execute_result"
    }
   ],
   "source": [
    "arr"
   ]
  },
  {
   "cell_type": "code",
   "execution_count": 65,
   "id": "c6ff89b5-6e3e-403a-a3b3-8495daa168a6",
   "metadata": {},
   "outputs": [
    {
     "data": {
      "text/plain": [
       "array(['SUDH', 'KRISH'], dtype='<U5')"
      ]
     },
     "execution_count": 65,
     "metadata": {},
     "output_type": "execute_result"
    }
   ],
   "source": [
    "np.char.upper(arr)"
   ]
  },
  {
   "cell_type": "code",
   "execution_count": 66,
   "id": "d8e91bb9-62f7-4246-9ac0-d362b23fa290",
   "metadata": {},
   "outputs": [
    {
     "data": {
      "text/plain": [
       "array(['Sudh', 'Krish'], dtype='<U5')"
      ]
     },
     "execution_count": 66,
     "metadata": {},
     "output_type": "execute_result"
    }
   ],
   "source": [
    "np.char.title(arr)"
   ]
  },
  {
   "cell_type": "code",
   "execution_count": 67,
   "id": "4334cf85-f827-4207-bd96-7adaef83ab8f",
   "metadata": {},
   "outputs": [
    {
     "data": {
      "text/plain": [
       "array(['Sudh', 'Krish'], dtype='<U5')"
      ]
     },
     "execution_count": 67,
     "metadata": {},
     "output_type": "execute_result"
    }
   ],
   "source": [
    "np.char.capitalize(arr)"
   ]
  },
  {
   "cell_type": "markdown",
   "id": "197e5b85-7904-4eb8-b63a-13025c68451b",
   "metadata": {},
   "source": [
    "Numpy Mathematical Functions"
   ]
  },
  {
   "cell_type": "code",
   "execution_count": 69,
   "id": "758a58dd-ea1f-4c88-ae7a-c0d004f2cc8e",
   "metadata": {},
   "outputs": [
    {
     "data": {
      "text/plain": [
       "array([[8, 8, 1, 6],\n",
       "       [4, 5, 2, 4],\n",
       "       [8, 9, 8, 4]])"
      ]
     },
     "execution_count": 69,
     "metadata": {},
     "output_type": "execute_result"
    }
   ],
   "source": [
    "arr1"
   ]
  },
  {
   "cell_type": "code",
   "execution_count": 70,
   "id": "d6cfa2d9-736f-4d84-a015-6e731c8d60a8",
   "metadata": {},
   "outputs": [
    {
     "data": {
      "text/plain": [
       "array([[ 0.98935825,  0.98935825,  0.84147098, -0.2794155 ],\n",
       "       [-0.7568025 , -0.95892427,  0.90929743, -0.7568025 ],\n",
       "       [ 0.98935825,  0.41211849,  0.98935825, -0.7568025 ]])"
      ]
     },
     "execution_count": 70,
     "metadata": {},
     "output_type": "execute_result"
    }
   ],
   "source": [
    "np.sin(arr1)"
   ]
  },
  {
   "cell_type": "code",
   "execution_count": 71,
   "id": "e8f1e494-d891-43e2-85d0-33f74b7b2cc3",
   "metadata": {},
   "outputs": [
    {
     "data": {
      "text/plain": [
       "array([[-0.14550003, -0.14550003,  0.54030231,  0.96017029],\n",
       "       [-0.65364362,  0.28366219, -0.41614684, -0.65364362],\n",
       "       [-0.14550003, -0.91113026, -0.14550003, -0.65364362]])"
      ]
     },
     "execution_count": 71,
     "metadata": {},
     "output_type": "execute_result"
    }
   ],
   "source": [
    "np.cos(arr1)"
   ]
  },
  {
   "cell_type": "code",
   "execution_count": 73,
   "id": "9e5b25b4-972f-4e73-9d89-a637fbf27ec2",
   "metadata": {},
   "outputs": [
    {
     "data": {
      "text/plain": [
       "array([[-6.79971146, -6.79971146,  1.55740772, -0.29100619],\n",
       "       [ 1.15782128, -3.38051501, -2.18503986,  1.15782128],\n",
       "       [-6.79971146, -0.45231566, -6.79971146,  1.15782128]])"
      ]
     },
     "execution_count": 73,
     "metadata": {},
     "output_type": "execute_result"
    }
   ],
   "source": [
    "np.tan(arr1)"
   ]
  },
  {
   "cell_type": "code",
   "execution_count": 74,
   "id": "26897b93-cf68-4c1e-8856-4b29bf08c378",
   "metadata": {},
   "outputs": [
    {
     "data": {
      "text/plain": [
       "array([[0.90308999, 0.90308999, 0.        , 0.77815125],\n",
       "       [0.60205999, 0.69897   , 0.30103   , 0.60205999],\n",
       "       [0.90308999, 0.95424251, 0.90308999, 0.60205999]])"
      ]
     },
     "execution_count": 74,
     "metadata": {},
     "output_type": "execute_result"
    }
   ],
   "source": [
    "np.log10(arr1)"
   ]
  },
  {
   "cell_type": "code",
   "execution_count": 75,
   "id": "41a2ba43-d61a-4f02-a5cc-602cf360a394",
   "metadata": {},
   "outputs": [
    {
     "data": {
      "text/plain": [
       "array([[2.98095799e+03, 2.98095799e+03, 2.71828183e+00, 4.03428793e+02],\n",
       "       [5.45981500e+01, 1.48413159e+02, 7.38905610e+00, 5.45981500e+01],\n",
       "       [2.98095799e+03, 8.10308393e+03, 2.98095799e+03, 5.45981500e+01]])"
      ]
     },
     "execution_count": 75,
     "metadata": {},
     "output_type": "execute_result"
    }
   ],
   "source": [
    "np.exp(arr1)"
   ]
  },
  {
   "cell_type": "code",
   "execution_count": 76,
   "id": "20fe0f3c-455e-4c14-bc54-6d9123a086d8",
   "metadata": {},
   "outputs": [
    {
     "data": {
      "text/plain": [
       "array([[2.82842712, 2.82842712, 1.        , 2.44948974],\n",
       "       [2.        , 2.23606798, 1.41421356, 2.        ],\n",
       "       [2.82842712, 3.        , 2.82842712, 2.        ]])"
      ]
     },
     "execution_count": 76,
     "metadata": {},
     "output_type": "execute_result"
    }
   ],
   "source": [
    "np.sqrt(arr1)"
   ]
  },
  {
   "cell_type": "code",
   "execution_count": 77,
   "id": "44bcb1d4-2dfd-4ec4-a68f-545b9ce948b2",
   "metadata": {},
   "outputs": [
    {
     "data": {
      "text/plain": [
       "array([[64, 64,  1, 36],\n",
       "       [16, 25,  4, 16],\n",
       "       [64, 81, 64, 16]])"
      ]
     },
     "execution_count": 77,
     "metadata": {},
     "output_type": "execute_result"
    }
   ],
   "source": [
    "np.power(arr1,2)"
   ]
  },
  {
   "cell_type": "code",
   "execution_count": 78,
   "id": "2dbba22b-be82-4357-9078-662371258624",
   "metadata": {},
   "outputs": [
    {
     "data": {
      "text/plain": [
       "5.583333333333333"
      ]
     },
     "execution_count": 78,
     "metadata": {},
     "output_type": "execute_result"
    }
   ],
   "source": [
    "np.mean(arr1)"
   ]
  },
  {
   "cell_type": "code",
   "execution_count": 80,
   "id": "ba731e98-6c12-40cb-8044-60aaf61e728f",
   "metadata": {},
   "outputs": [
    {
     "data": {
      "text/plain": [
       "5.5"
      ]
     },
     "execution_count": 80,
     "metadata": {},
     "output_type": "execute_result"
    }
   ],
   "source": [
    "np.median(arr1)"
   ]
  },
  {
   "cell_type": "code",
   "execution_count": 81,
   "id": "1c90608d-8100-4b13-b5ce-1111b211056a",
   "metadata": {},
   "outputs": [
    {
     "data": {
      "text/plain": [
       "2.5317429218272185"
      ]
     },
     "execution_count": 81,
     "metadata": {},
     "output_type": "execute_result"
    }
   ],
   "source": [
    "np.std(arr1)"
   ]
  },
  {
   "cell_type": "code",
   "execution_count": 82,
   "id": "221c47a4-a2ae-4e73-ba56-ff9c03c732b5",
   "metadata": {},
   "outputs": [
    {
     "data": {
      "text/plain": [
       "6.409722222222222"
      ]
     },
     "execution_count": 82,
     "metadata": {},
     "output_type": "execute_result"
    }
   ],
   "source": [
    "np.var(arr1)"
   ]
  },
  {
   "cell_type": "code",
   "execution_count": 83,
   "id": "e02bfa96-9468-4ccb-bbf3-d19b00576300",
   "metadata": {},
   "outputs": [
    {
     "data": {
      "text/plain": [
       "1"
      ]
     },
     "execution_count": 83,
     "metadata": {},
     "output_type": "execute_result"
    }
   ],
   "source": [
    "np.min(arr1)"
   ]
  },
  {
   "cell_type": "code",
   "execution_count": 84,
   "id": "1499db30-fcf8-4f27-aade-1a4831689cbd",
   "metadata": {},
   "outputs": [
    {
     "data": {
      "text/plain": [
       "9"
      ]
     },
     "execution_count": 84,
     "metadata": {},
     "output_type": "execute_result"
    }
   ],
   "source": [
    "np.max(arr1)"
   ]
  },
  {
   "cell_type": "code",
   "execution_count": null,
   "id": "c40decd5-e830-47f5-bcc2-f56f7a01e286",
   "metadata": {},
   "outputs": [],
   "source": []
  }
 ],
 "metadata": {
  "kernelspec": {
   "display_name": "Python 3 (ipykernel)",
   "language": "python",
   "name": "python3"
  },
  "language_info": {
   "codemirror_mode": {
    "name": "ipython",
    "version": 3
   },
   "file_extension": ".py",
   "mimetype": "text/x-python",
   "name": "python",
   "nbconvert_exporter": "python",
   "pygments_lexer": "ipython3",
   "version": "3.10.8"
  }
 },
 "nbformat": 4,
 "nbformat_minor": 5
}
