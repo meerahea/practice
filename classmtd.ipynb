{
 "cells": [
  {
   "cell_type": "code",
   "execution_count": 1,
   "id": "f50a1a4b-6127-43c3-b47b-b5762b9b6199",
   "metadata": {},
   "outputs": [],
   "source": [
    "class pwskills:\n",
    "    \n",
    "    def __init__(self,name,email):\n",
    "        \n",
    "        self.name = name\n",
    "        self.email= email\n",
    "        \n",
    "    def student_details(self):\n",
    "        print(self.name,self.email)"
   ]
  },
  {
   "cell_type": "code",
   "execution_count": 12,
   "id": "0919e490-0917-4ced-bffc-4bc2185629be",
   "metadata": {},
   "outputs": [],
   "source": [
    "pw = pwskills('mohan','mohan@gmail.com')"
   ]
  },
  {
   "cell_type": "code",
   "execution_count": 3,
   "id": "6cb3ac59-afb0-4b7d-b50b-e12a200cf154",
   "metadata": {},
   "outputs": [
    {
     "data": {
      "text/plain": [
       "'mohan'"
      ]
     },
     "execution_count": 3,
     "metadata": {},
     "output_type": "execute_result"
    }
   ],
   "source": [
    "pw.name"
   ]
  },
  {
   "cell_type": "code",
   "execution_count": 4,
   "id": "339e4513-1470-4ecc-9da0-2ca876808f6e",
   "metadata": {},
   "outputs": [
    {
     "data": {
      "text/plain": [
       "'mohan@gmail.com'"
      ]
     },
     "execution_count": 4,
     "metadata": {},
     "output_type": "execute_result"
    }
   ],
   "source": [
    "pw.email"
   ]
  },
  {
   "cell_type": "code",
   "execution_count": 5,
   "id": "b048e1a5-1bd0-40d6-9af5-111d186005dc",
   "metadata": {},
   "outputs": [],
   "source": [
    "pw = pwskills('radha','radha@gmail.com')"
   ]
  },
  {
   "cell_type": "code",
   "execution_count": 10,
   "id": "9f536e93-95e7-4e03-acc5-40f84f6f3c4c",
   "metadata": {},
   "outputs": [
    {
     "data": {
      "text/plain": [
       "'radha'"
      ]
     },
     "execution_count": 10,
     "metadata": {},
     "output_type": "execute_result"
    }
   ],
   "source": [
    "pw.name"
   ]
  },
  {
   "cell_type": "code",
   "execution_count": 7,
   "id": "acb69d45-55b2-487a-8bb8-f4fab8de913b",
   "metadata": {},
   "outputs": [
    {
     "data": {
      "text/plain": [
       "'radha@gmail.com'"
      ]
     },
     "execution_count": 7,
     "metadata": {},
     "output_type": "execute_result"
    }
   ],
   "source": [
    "pw.email"
   ]
  },
  {
   "cell_type": "code",
   "execution_count": 13,
   "id": "82b0a774-e9b4-4493-bb6d-0e41f390b6b6",
   "metadata": {},
   "outputs": [
    {
     "name": "stdout",
     "output_type": "stream",
     "text": [
      "mohan mohan@gmail.com\n"
     ]
    }
   ],
   "source": [
    "pw.student_details()"
   ]
  },
  {
   "cell_type": "code",
   "execution_count": 15,
   "id": "de17014c-b25d-4bd4-9edf-91da5af31183",
   "metadata": {},
   "outputs": [],
   "source": [
    "class pwskills1:\n",
    "    \n",
    "    def __init__(self,name,email):\n",
    "        \n",
    "        self.name = name\n",
    "        self.email= email\n",
    "    \n",
    "    @classmethod\n",
    "    def details(cls,name,email):\n",
    "            return cls(name,email)\n",
    "        \n",
    "    def student_details(self):\n",
    "        print(self.name,self.email)"
   ]
  },
  {
   "cell_type": "code",
   "execution_count": 16,
   "id": "af669e21-e4bf-4905-9dbd-2a10efa40b38",
   "metadata": {},
   "outputs": [
    {
     "data": {
      "text/plain": [
       "<__main__.pwskills1 at 0x7ff57c18e3e0>"
      ]
     },
     "execution_count": 16,
     "metadata": {},
     "output_type": "execute_result"
    }
   ],
   "source": [
    "pwskills1.details('sudh','sudh@gmail.com')"
   ]
  },
  {
   "cell_type": "code",
   "execution_count": 17,
   "id": "52fdb737-cb56-457b-ad2a-ee363a266fcd",
   "metadata": {},
   "outputs": [],
   "source": [
    "pw = pwskills1.details('sudh','sudh@gmail.com')"
   ]
  },
  {
   "cell_type": "code",
   "execution_count": 18,
   "id": "2106daab-ba88-49cd-9ed0-bcda872bdee3",
   "metadata": {},
   "outputs": [
    {
     "data": {
      "text/plain": [
       "'sudh'"
      ]
     },
     "execution_count": 18,
     "metadata": {},
     "output_type": "execute_result"
    }
   ],
   "source": [
    "pw.name"
   ]
  },
  {
   "cell_type": "code",
   "execution_count": 19,
   "id": "7598adb0-7d79-4d2a-9ba5-cd61cf5119b8",
   "metadata": {},
   "outputs": [
    {
     "data": {
      "text/plain": [
       "'sudh@gmail.com'"
      ]
     },
     "execution_count": 19,
     "metadata": {},
     "output_type": "execute_result"
    }
   ],
   "source": [
    "pw.email"
   ]
  },
  {
   "cell_type": "code",
   "execution_count": 21,
   "id": "6bec21f8-0427-45f3-9140-986c586d6cab",
   "metadata": {},
   "outputs": [
    {
     "name": "stdout",
     "output_type": "stream",
     "text": [
      "sudh sudh@gmail.com\n"
     ]
    }
   ],
   "source": [
    "pw.student_details()"
   ]
  },
  {
   "cell_type": "code",
   "execution_count": 42,
   "id": "ee2bd7fc-f4de-4f66-a9c6-1f8df67f7887",
   "metadata": {},
   "outputs": [],
   "source": [
    "class pwskills2:\n",
    "    \n",
    "    mobile_num = 1234567890\n",
    "    \n",
    "    def __init__(self,name,email):\n",
    "        \n",
    "        self.name = name\n",
    "        self.email= email\n",
    "    @classmethod\n",
    "    def change_number(cls,mobile):\n",
    "        pwskills2.mobile_num = mobile\n",
    "   \n",
    "    @classmethod\n",
    "    def details(cls,name,email):\n",
    "            return cls(name,email)\n",
    "        \n",
    "    def student_details(self):\n",
    "        print(self.name,self.email,pwskills2.mobile_num)"
   ]
  },
  {
   "cell_type": "code",
   "execution_count": 43,
   "id": "d359e743-2d8f-4bff-be73-3ad906650230",
   "metadata": {},
   "outputs": [],
   "source": [
    "pw = pwskills2.details('rohan','rohan@gmail.com')"
   ]
  },
  {
   "cell_type": "code",
   "execution_count": 44,
   "id": "b42f9016-3601-4446-b7b9-4f49fdc738bc",
   "metadata": {},
   "outputs": [
    {
     "name": "stdout",
     "output_type": "stream",
     "text": [
      "rohan rohan@gmail.com 1234567890\n"
     ]
    }
   ],
   "source": [
    "pw.student_details()"
   ]
  },
  {
   "cell_type": "code",
   "execution_count": 29,
   "id": "68080f6e-ddb3-41ef-84c1-0f3f3565b412",
   "metadata": {},
   "outputs": [],
   "source": [
    "pw_obj = pwskills2('sudh','sudh@gmail.com')"
   ]
  },
  {
   "cell_type": "code",
   "execution_count": 30,
   "id": "6f858100-4c11-4643-819c-fc9e3af3583b",
   "metadata": {},
   "outputs": [
    {
     "data": {
      "text/plain": [
       "'sudh'"
      ]
     },
     "execution_count": 30,
     "metadata": {},
     "output_type": "execute_result"
    }
   ],
   "source": [
    "pw_obj.name"
   ]
  },
  {
   "cell_type": "code",
   "execution_count": 31,
   "id": "57bfadf2-4a36-4a0d-b3f8-b09be41aa1f5",
   "metadata": {},
   "outputs": [],
   "source": [
    "pw_obj.change_number(123443215)"
   ]
  },
  {
   "cell_type": "code",
   "execution_count": 34,
   "id": "556d1976-1e94-4a6b-981a-df9de41b1020",
   "metadata": {},
   "outputs": [
    {
     "name": "stdout",
     "output_type": "stream",
     "text": [
      "sudh sudh@gmail.com\n"
     ]
    }
   ],
   "source": [
    "pw_obj.student_details()"
   ]
  },
  {
   "cell_type": "code",
   "execution_count": 27,
   "id": "a22c75ef-d245-4925-9aaa-7897b0c262da",
   "metadata": {},
   "outputs": [],
   "source": [
    "pwskills2.change_number(9423556756)"
   ]
  },
  {
   "cell_type": "code",
   "execution_count": 32,
   "id": "f81a2189-e824-4cf9-8a43-f296c4f06d6a",
   "metadata": {},
   "outputs": [
    {
     "data": {
      "text/plain": [
       "123443215"
      ]
     },
     "execution_count": 32,
     "metadata": {},
     "output_type": "execute_result"
    }
   ],
   "source": [
    "pwskills2.mobile_num"
   ]
  },
  {
   "cell_type": "code",
   "execution_count": 71,
   "id": "69df602b-4155-4d59-bb0d-10d92c091a2c",
   "metadata": {},
   "outputs": [],
   "source": [
    "class pwskills3:\n",
    "    \n",
    "    mobile_num = 1234567890\n",
    "    \n",
    "    def __init__(self,name,email):\n",
    "        \n",
    "        self.name = name\n",
    "        self.email= email\n",
    "    @classmethod\n",
    "    def change_number(cls,mobile):\n",
    "        pwskills3.mobile_num = mobile\n",
    "   \n",
    "    @classmethod\n",
    "    def details(cls,name,email):\n",
    "            return cls(name,email)\n",
    "        \n",
    "    def student_details(self):\n",
    "        print(self.name,self.email,pwskills3.mobile_num)"
   ]
  },
  {
   "cell_type": "code",
   "execution_count": 51,
   "id": "f86264f0-ca0f-4356-86e1-c6f04db834e0",
   "metadata": {},
   "outputs": [],
   "source": [
    "def course_details(cls,course_name):\n",
    "    print('my course name is:',course_name)"
   ]
  },
  {
   "cell_type": "code",
   "execution_count": 52,
   "id": "ac564bd1-6dac-41ff-9f93-ae13a40f80ff",
   "metadata": {},
   "outputs": [],
   "source": [
    "pwskills3.course_details = classmethod(course_details)"
   ]
  },
  {
   "cell_type": "code",
   "execution_count": 53,
   "id": "92e8f6d2-1571-464e-a2ed-d7f8f7851322",
   "metadata": {},
   "outputs": [
    {
     "name": "stdout",
     "output_type": "stream",
     "text": [
      "my course name is: data science\n"
     ]
    }
   ],
   "source": [
    "pwskills3.course_details('data science')"
   ]
  },
  {
   "cell_type": "code",
   "execution_count": 50,
   "id": "1e4d2bf4-76db-4229-b9f5-3cc861af7c11",
   "metadata": {},
   "outputs": [
    {
     "ename": "TypeError",
     "evalue": "course_details() missing 1 required positional argument: 'course_name'",
     "output_type": "error",
     "traceback": [
      "\u001b[0;31m---------------------------------------------------------------------------\u001b[0m",
      "\u001b[0;31mTypeError\u001b[0m                                 Traceback (most recent call last)",
      "Cell \u001b[0;32mIn[50], line 1\u001b[0m\n\u001b[0;32m----> 1\u001b[0m \u001b[43mcourse_details\u001b[49m\u001b[43m(\u001b[49m\u001b[38;5;124;43m'\u001b[39;49m\u001b[38;5;124;43mdata science\u001b[39;49m\u001b[38;5;124;43m'\u001b[39;49m\u001b[43m)\u001b[49m\n",
      "\u001b[0;31mTypeError\u001b[0m: course_details() missing 1 required positional argument: 'course_name'"
     ]
    }
   ],
   "source": [
    "course_details('data science')"
   ]
  },
  {
   "cell_type": "code",
   "execution_count": 54,
   "id": "85232b2d-29ed-41ed-a7ff-be49c3572406",
   "metadata": {},
   "outputs": [],
   "source": [
    "def mentor(cls,list_mentor):\n",
    "    print(list_mentor)"
   ]
  },
  {
   "cell_type": "code",
   "execution_count": 56,
   "id": "f9385a67-a3d1-4062-a597-cf9f38f806f1",
   "metadata": {},
   "outputs": [],
   "source": [
    "pwskills3.mentor = classmethod(mentor)"
   ]
  },
  {
   "cell_type": "code",
   "execution_count": 60,
   "id": "f9f80d18-bf4c-4e8d-8389-e25b41247a52",
   "metadata": {},
   "outputs": [
    {
     "name": "stdout",
     "output_type": "stream",
     "text": [
      "['sudhsir', 'krishsir', 'kausthabsir', 'vinayaksir']\n"
     ]
    }
   ],
   "source": [
    "pwskills3.mentor(['sudhsir','krishsir','kausthabsir','vinayaksir'])"
   ]
  },
  {
   "cell_type": "code",
   "execution_count": 61,
   "id": "b43b8379-0452-4085-b306-570d8bbccf9b",
   "metadata": {},
   "outputs": [],
   "source": [
    "def student_marks(cls,marks):\n",
    "    print('student mark is:',marks)"
   ]
  },
  {
   "cell_type": "code",
   "execution_count": 62,
   "id": "6514961d-29cf-4c96-88b7-6c82ef52c2d4",
   "metadata": {},
   "outputs": [],
   "source": [
    "pwskills3.student_marks = classmethod(student_marks)"
   ]
  },
  {
   "cell_type": "code",
   "execution_count": 63,
   "id": "5ab8a979-7281-41b3-ae8b-40a254d0a6f9",
   "metadata": {},
   "outputs": [
    {
     "name": "stdout",
     "output_type": "stream",
     "text": [
      "student mark is: 350\n"
     ]
    }
   ],
   "source": [
    "pwskills3.student_marks(350)"
   ]
  },
  {
   "cell_type": "code",
   "execution_count": 72,
   "id": "3c1281fa-5ffe-4a7f-ac13-4321b9349953",
   "metadata": {},
   "outputs": [],
   "source": [
    "class pwskills4:\n",
    "    \n",
    "    mobile_num = 1234567890\n",
    "    \n",
    "    def __init__(self,name,email):\n",
    "        \n",
    "        self.name = name\n",
    "        self.email= email\n",
    "    @classmethod\n",
    "    def change_number(cls,mobile):\n",
    "        pwskills4.mobile_num = mobile\n",
    "   \n",
    "    @classmethod\n",
    "    def details(cls,name,email):\n",
    "            return cls(name,email)\n",
    "        \n",
    "    def student_details(self):\n",
    "        print(self.name,self.email,pwskills4.mobile_num)"
   ]
  },
  {
   "cell_type": "code",
   "execution_count": 74,
   "id": "80c44d46-eaa5-4a73-887d-5d5c26615289",
   "metadata": {},
   "outputs": [],
   "source": [
    "del pwskills4.change_number"
   ]
  },
  {
   "cell_type": "code",
   "execution_count": 75,
   "id": "c9617905-0744-4aba-8947-4ada1d7d56e6",
   "metadata": {},
   "outputs": [
    {
     "ename": "AttributeError",
     "evalue": "type object 'pwskills4' has no attribute 'change_number'",
     "output_type": "error",
     "traceback": [
      "\u001b[0;31m---------------------------------------------------------------------------\u001b[0m",
      "\u001b[0;31mAttributeError\u001b[0m                            Traceback (most recent call last)",
      "Cell \u001b[0;32mIn[75], line 1\u001b[0m\n\u001b[0;32m----> 1\u001b[0m \u001b[43mpwskills4\u001b[49m\u001b[38;5;241;43m.\u001b[39;49m\u001b[43mchange_number\u001b[49m(\u001b[38;5;241m123432154\u001b[39m)\n",
      "\u001b[0;31mAttributeError\u001b[0m: type object 'pwskills4' has no attribute 'change_number'"
     ]
    }
   ],
   "source": [
    "pwskills4.change_number(123432154)"
   ]
  },
  {
   "cell_type": "code",
   "execution_count": 77,
   "id": "09c38b2d-096d-45bb-8035-024f49205c89",
   "metadata": {},
   "outputs": [],
   "source": [
    "delattr (pwskills4,'details')"
   ]
  },
  {
   "cell_type": "code",
   "execution_count": 78,
   "id": "d33bca91-64b1-45fb-a435-c653899d6b42",
   "metadata": {},
   "outputs": [],
   "source": [
    "delattr (pwskills4,'student_details')"
   ]
  },
  {
   "cell_type": "code",
   "execution_count": 79,
   "id": "0cd9873f-8fff-4d1f-884d-2e4e6627e325",
   "metadata": {},
   "outputs": [],
   "source": [
    "del pwskills4.mobile_num"
   ]
  }
 ],
 "metadata": {
  "kernelspec": {
   "display_name": "Python 3 (ipykernel)",
   "language": "python",
   "name": "python3"
  },
  "language_info": {
   "codemirror_mode": {
    "name": "ipython",
    "version": 3
   },
   "file_extension": ".py",
   "mimetype": "text/x-python",
   "name": "python",
   "nbconvert_exporter": "python",
   "pygments_lexer": "ipython3",
   "version": "3.10.8"
  }
 },
 "nbformat": 4,
 "nbformat_minor": 5
}
