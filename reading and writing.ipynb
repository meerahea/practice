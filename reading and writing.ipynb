{
 "cells": [
  {
   "cell_type": "markdown",
   "id": "767f920a-6c15-4870-b312-5ac2d81287d7",
   "metadata": {},
   "source": [
    "Json data(java sciprt object notation-key value pair)"
   ]
  },
  {
   "cell_type": "code",
   "execution_count": 3,
   "id": "3bb0d992-a2b7-4409-bb75-f41cfd9c4858",
   "metadata": {},
   "outputs": [],
   "source": [
    "data = {\n",
    "    'name' : 'sudh',\n",
    "    'mail_id' : 'sudh@gmail.com',\n",
    "    'phone_number' : 1234567890,\n",
    "    'subject' : ['data science','data analytics','big data']}"
   ]
  },
  {
   "cell_type": "code",
   "execution_count": 4,
   "id": "f48934bd-5c2e-4bf2-83df-5b6996ad586d",
   "metadata": {},
   "outputs": [],
   "source": [
    "import json"
   ]
  },
  {
   "cell_type": "code",
   "execution_count": 5,
   "id": "5d8e40f8-061e-4254-895a-89a26b4f505c",
   "metadata": {},
   "outputs": [],
   "source": [
    "with open('data.json','w') as f :\n",
    "    json.dump(data,f)"
   ]
  },
  {
   "cell_type": "code",
   "execution_count": 6,
   "id": "ddc70e2a-173f-4457-91c5-a4159446b0d7",
   "metadata": {},
   "outputs": [],
   "source": [
    "with open('data.json','r') as f:\n",
    "    data1 = json.load(f)\n",
    "    "
   ]
  },
  {
   "cell_type": "code",
   "execution_count": 7,
   "id": "b87d322f-61f4-4526-85c8-3e70c6202017",
   "metadata": {},
   "outputs": [
    {
     "data": {
      "text/plain": [
       "{'name': 'sudh',\n",
       " 'mail_id': 'sudh@gmail.com',\n",
       " 'phone_number': 1234567890,\n",
       " 'subject': ['data science', 'data analytics', 'big data']}"
      ]
     },
     "execution_count": 7,
     "metadata": {},
     "output_type": "execute_result"
    }
   ],
   "source": [
    "data1"
   ]
  },
  {
   "cell_type": "code",
   "execution_count": 8,
   "id": "e9c84cd3-82f0-408f-891e-09beca1eed6c",
   "metadata": {},
   "outputs": [
    {
     "data": {
      "text/plain": [
       "['data science', 'data analytics', 'big data']"
      ]
     },
     "execution_count": 8,
     "metadata": {},
     "output_type": "execute_result"
    }
   ],
   "source": [
    "data1['subject']"
   ]
  },
  {
   "cell_type": "code",
   "execution_count": 9,
   "id": "18416d7e-e09a-4998-afe3-6d79bede9a13",
   "metadata": {},
   "outputs": [
    {
     "data": {
      "text/plain": [
       "'data science'"
      ]
     },
     "execution_count": 9,
     "metadata": {},
     "output_type": "execute_result"
    }
   ],
   "source": [
    "data1['subject'][0]"
   ]
  },
  {
   "cell_type": "code",
   "execution_count": 10,
   "id": "2e6e9d0e-795e-43ae-8105-c81033943d95",
   "metadata": {},
   "outputs": [
    {
     "data": {
      "text/plain": [
       "'data analytics'"
      ]
     },
     "execution_count": 10,
     "metadata": {},
     "output_type": "execute_result"
    }
   ],
   "source": [
    "data1['subject'][1]"
   ]
  },
  {
   "cell_type": "code",
   "execution_count": 11,
   "id": "e40bc6d2-66d6-40b4-8a27-34d4a204263a",
   "metadata": {},
   "outputs": [
    {
     "data": {
      "text/plain": [
       "'big data'"
      ]
     },
     "execution_count": 11,
     "metadata": {},
     "output_type": "execute_result"
    }
   ],
   "source": [
    "data1['subject'][2]"
   ]
  },
  {
   "cell_type": "markdown",
   "id": "6ea6754a-3e2a-4c31-9ff6-35727c48d54b",
   "metadata": {},
   "source": [
    "csv(comma sepreated values)"
   ]
  },
  {
   "cell_type": "code",
   "execution_count": 12,
   "id": "727773d2-87fa-4179-a505-491839e70ac6",
   "metadata": {},
   "outputs": [],
   "source": [
    "import csv"
   ]
  },
  {
   "cell_type": "code",
   "execution_count": 13,
   "id": "82a09e29-4082-45fb-b739-4b36c43b8d06",
   "metadata": {},
   "outputs": [],
   "source": [
    "data = [['name','mail_id','phone_number'],\n",
    "        ['sudh','sudh@gmail.com',9812345670],\n",
    "        ['krish','krish@gmail.com',1234567890]\n",
    "       ]\n"
   ]
  },
  {
   "cell_type": "code",
   "execution_count": 14,
   "id": "a0558534-f331-4ca1-9def-53fbdc94f1dd",
   "metadata": {},
   "outputs": [],
   "source": [
    "with open('data.csv','w') as f:\n",
    "    writer=  csv.writer(f)\n",
    "    \n",
    "    for i in data:\n",
    "        writer.writerow(i)\n",
    "    "
   ]
  },
  {
   "cell_type": "code",
   "execution_count": 15,
   "id": "1edf2404-1166-4132-b4b3-a77b56a3606e",
   "metadata": {},
   "outputs": [
    {
     "name": "stdout",
     "output_type": "stream",
     "text": [
      "['name', 'mail_id', 'phone_number']\n",
      "['sudh', 'sudh@gmail.com', 9812345670]\n",
      "['krish', 'krish@gmail.com', 1234567890]\n"
     ]
    }
   ],
   "source": [
    "with open('data.csv','r') as f:\n",
    "    reader= csv.reader(f)\n",
    "    \n",
    "    for i in data:\n",
    "        print(i)"
   ]
  },
  {
   "cell_type": "markdown",
   "id": "a9fb8ce8-2174-41e1-9bce-a7f4e9c32c7d",
   "metadata": {},
   "source": [
    "Binary format"
   ]
  },
  {
   "cell_type": "code",
   "execution_count": 16,
   "id": "d4f6425e-1329-4ce2-a3a5-0ba74cf3bbd3",
   "metadata": {},
   "outputs": [],
   "source": [
    "with open('test.bin','wb') as f:\n",
    "    f.write(b\"\\x01\\x02\\x03\\x34534\")"
   ]
  },
  {
   "cell_type": "code",
   "execution_count": 17,
   "id": "0ffb1a7e-c6a3-4d08-b171-ec6ea00ff035",
   "metadata": {},
   "outputs": [
    {
     "name": "stdout",
     "output_type": "stream",
     "text": [
      "b'\\x01\\x02\\x034534'\n"
     ]
    }
   ],
   "source": [
    "with open('test.bin','rb') as f:\n",
    "    print(f.read())"
   ]
  }
 ],
 "metadata": {
  "kernelspec": {
   "display_name": "Python 3 (ipykernel)",
   "language": "python",
   "name": "python3"
  },
  "language_info": {
   "codemirror_mode": {
    "name": "ipython",
    "version": 3
   },
   "file_extension": ".py",
   "mimetype": "text/x-python",
   "name": "python",
   "nbconvert_exporter": "python",
   "pygments_lexer": "ipython3",
   "version": "3.10.8"
  }
 },
 "nbformat": 4,
 "nbformat_minor": 5
}
